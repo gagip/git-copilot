{
 "cells": [
  {
   "cell_type": "code",
   "execution_count": 1,
   "metadata": {},
   "outputs": [],
   "source": [
    "from dotenv import load_dotenv\n",
    "from gitcopilot.git import Repository\n",
    "from gitcopilot.gpt import Copilot\n",
    "import os\n",
    "\n",
    "load_dotenv()\n",
    "\n",
    "BEFORE_BRANCH_NAME = \"develop-v3\"\n",
    "AFTER_BRANCH_NAME = \"feature/update-build\"\n",
    "VERSION_NAME = \"3.8.0.0\"\n",
    "\n",
    "\n",
    "repo_path = os.getenv('GIT_REPOSITORY_PATH')\n",
    "if not repo_path:\n",
    "    print('Please set GIT_REPOSITORY_PATH in .env file')\n",
    "    exit(1)\n",
    "\n",
    "\n",
    "repo = Repository(repo_path)\n",
    "copilot = Copilot()"
   ]
  },
  {
   "cell_type": "code",
   "execution_count": 3,
   "metadata": {},
   "outputs": [],
   "source": [
    "commit_infos = repo.generate_commit_data(BEFORE_BRANCH_NAME, AFTER_BRANCH_NAME)\n",
    "df = repo.generate_to_data_frame(BEFORE_BRANCH_NAME, AFTER_BRANCH_NAME)\n",
    "df.to_csv(f'data/{VERSION_NAME}.csv', index=False)"
   ]
  },
  {
   "cell_type": "code",
   "execution_count": 4,
   "metadata": {},
   "outputs": [
    {
     "name": "stdout",
     "output_type": "stream",
     "text": [
      "* 사용하지 않는 함수 삭제\n",
      "======================================\n",
      "\n",
      "* AppData의 PersonalMarathonData 관련된 정보 삭제.\n",
      "======================================\n",
      "\n",
      "분리되어있는 pref 값 공통 string_pref 파일 생성하여 옮김\n",
      "======================================\n",
      "\n"
     ]
    }
   ],
   "source": [
    "df = df[\n",
    "    ~df['message'].str.contains('Merge branch') & \\\n",
    "    ~df['message'].str.contains('refactor') & \\\n",
    "    ~df['message'].str.contains('chore')\n",
    "]\n",
    "for value in df['message'].values:\n",
    "    print(value, end='======================================\\n\\n')"
   ]
  },
  {
   "cell_type": "code",
   "execution_count": 5,
   "metadata": {},
   "outputs": [
    {
     "name": "stdout",
     "output_type": "stream",
     "text": [
      "# 업데이트 스펙\n",
      "\n",
      "## 기능 업데이트\n",
      "1. 사용하지 않는 함수 삭제\n",
      "   - Commit ID: b57bec3bc6fd75762a96f84a9260e24c7ea81a6f\n",
      "   - 작성자: thkim\n",
      "   - 날짜: 2024-07-01\n",
      "   - 내용: 사용되지 않는 함수를 삭제하였습니다.\n",
      "\n",
      "2. AppData의 PersonalMarathonData 관련 정보 삭제\n",
      "   - Commit ID: f083687f6d7ec16f42f4f66e65210b27665de940\n",
      "   - 작성자: thkim\n",
      "   - 날짜: 2024-07-01\n",
      "   - 내용: AppData에 있는 PersonalMarathonData와 관련된 정보를 삭제하였습니다.\n",
      "\n",
      "## 빌드 업데이트\n",
      "1. 분리되어 있는 pref 값 공통 string_pref 파일 생성하여 옮김\n",
      "   - Commit ID: 350c1227aeb6a2a99519df0488d379f917643499\n",
      "   - 작성자: thkim\n",
      "   - 날짜: 2024-06-27\n",
      "   - 내용: 분리되어 있는 pref 값을 하나의 공통 string_pref 파일로 생성하여 이동시켰습니다.\n",
      "\n",
      "## 머지\n",
      "1. 브랜치 'develop-v3'을 'feature/update-build' 브랜치로 머지\n",
      "   - Commit ID: 28541672ab9eab7ed6e9f7bca3c7c2ac00c3f700\n",
      "   - 작성자: gagip\n",
      "   - 날짜: 2024-07-17\n",
      "   - 내용: 'develop-v3' 브랜치를 'feature/update-build' 브랜치로 머지하였습니다.\n",
      "\n",
      "2. 브랜치 'feature/update-build'을 병합\n",
      "   - Commit ID: c3827ab6dd64a36f8454bfa5baa3ba53a99eac78\n",
      "   - 작성자: thkim\n",
      "   - 날짜: 2024-06-27\n",
      "   - 내용: 'feature/update-build' 브랜치를 병합하였습니다.\n"
     ]
    }
   ],
   "source": [
    "result = copilot.summarize_commits(commit_infos, \"prompts/summarize_commits.md\")\n",
    "if result:\n",
    "    print(result)\n",
    "    with open(f\"data/{VERSION_NAME}.md\", \"w\", encoding=\"utf-8\") as f:\n",
    "        f.write(result)"
   ]
  }
 ],
 "metadata": {
  "kernelspec": {
   "display_name": ".venv",
   "language": "python",
   "name": "python3"
  },
  "language_info": {
   "codemirror_mode": {
    "name": "ipython",
    "version": 3
   },
   "file_extension": ".py",
   "mimetype": "text/x-python",
   "name": "python",
   "nbconvert_exporter": "python",
   "pygments_lexer": "ipython3",
   "version": "3.12.3"
  }
 },
 "nbformat": 4,
 "nbformat_minor": 2
}
